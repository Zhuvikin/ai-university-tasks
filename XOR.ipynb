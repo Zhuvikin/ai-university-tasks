{
 "cells": [
  {
   "cell_type": "code",
   "execution_count": 7,
   "metadata": {
    "scrolled": true
   },
   "outputs": [
    {
     "name": "stdout",
     "output_type": "stream",
     "text": [
      "0: True\n",
      "1: True\n",
      "2: True\n",
      "3: True\n",
      "4: True\n",
      "5: False\n",
      "6: False\n",
      "7: True\n",
      "8: True\n",
      "9: True\n",
      "[True, True, True, True, True, False, False, True, True, True]\n"
     ]
    }
   ],
   "source": [
    "import numpy as np\n",
    "from keras.models import Sequential\n",
    "from keras.layers import Dense\n",
    "from keras.optimizers import SGD\n",
    "\n",
    "training_data = np.array([[0,0], [0,1], [1,0], [1,1]], \"float32\")\n",
    "target_data = np.array([[0], [1], [1], [0]], \"float32\")\n",
    "\n",
    "a = []\n",
    "for i in range(10):\n",
    "    model = Sequential()\n",
    "    model.add(Dense(2, input_dim = 2, activation='sigmoid'))\n",
    "    model.add(Dense(1, activation = 'sigmoid'))\n",
    "    sgd = SGD(lr = 0.19, decay = 1e-6, momentum = 0.955)\n",
    "    model.compile(loss = 'mean_squared_error',\n",
    "                  optimizer = sgd,\n",
    "                  metrics = ['binary_accuracy'])\n",
    "    model.fit(training_data, target_data, epochs = 1500, verbose = 0)\n",
    "    print(str(i) + ': ' + str(np.array_equal(model.predict(training_data).round(), target_data)))\n",
    "    a.append(np.array_equal(model.predict(training_data).round(), target_data))\n",
    "\n",
    "print(a)"
   ]
  },
  {
   "cell_type": "code",
   "execution_count": null,
   "metadata": {},
   "outputs": [],
   "source": []
  }
 ],
 "metadata": {
  "kernelspec": {
   "display_name": "JKERNEL",
   "language": "python",
   "name": "jkernel"
  },
  "language_info": {
   "codemirror_mode": {
    "name": "ipython",
    "version": 3
   },
   "file_extension": ".py",
   "mimetype": "text/x-python",
   "name": "python",
   "nbconvert_exporter": "python",
   "pygments_lexer": "ipython3",
   "version": "3.7.3"
  }
 },
 "nbformat": 4,
 "nbformat_minor": 2
}
