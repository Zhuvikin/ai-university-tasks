{
 "cells": [
  {
   "cell_type": "code",
   "execution_count": 1,
   "metadata": {},
   "outputs": [],
   "source": [
    "import numpy as np\n",
    "import pandas as pd\n",
    "import matplotlib.pyplot as plt\n",
    "\n",
    "import torch\n",
    "import torch.nn as nn\n",
    "from torch.autograd import Variable\n",
    "\n",
    "import torchvision\n",
    "import torchvision.transforms as transforms\n",
    "from torchvision import models, datasets\n",
    "from torch.utils.data import Dataset, DataLoader\n",
    "from sklearn.metrics import confusion_matrix"
   ]
  },
  {
   "cell_type": "code",
   "execution_count": 2,
   "metadata": {},
   "outputs": [
    {
     "name": "stdout",
     "output_type": "stream",
     "text": [
      "Current device is cpu\n"
     ]
    }
   ],
   "source": [
    "device = torch.device(\"cuda:0\" if torch.cuda.is_available() else \"cpu\")\n",
    "print('Current device is', device)"
   ]
  },
  {
   "cell_type": "code",
   "execution_count": 3,
   "metadata": {},
   "outputs": [],
   "source": [
    "train_set = datasets.FashionMNIST('data/homework1/', \n",
    "                           download=True, \n",
    "                           train=True, \n",
    "                           transform=transforms.Compose([transforms.ToTensor()]))\n",
    "test_set = datasets.FashionMNIST('data/homework1/', \n",
    "                          download=True, \n",
    "                          train=False, \n",
    "                          transform=transforms.Compose([transforms.ToTensor()]))"
   ]
  },
  {
   "cell_type": "code",
   "execution_count": 4,
   "metadata": {},
   "outputs": [
    {
     "name": "stdout",
     "output_type": "stream",
     "text": [
      "Train data size:  torch.Size([60000, 28, 28])\n",
      "Train data labels:  torch.Size([60000])\n",
      "Test data size:  torch.Size([10000, 28, 28])\n",
      "Test data labels:  torch.Size([10000])\n"
     ]
    },
    {
     "name": "stderr",
     "output_type": "stream",
     "text": [
      "/Users/zhuvikin/anaconda3/envs/AIU_ML/lib/python3.7/site-packages/torchvision/datasets/mnist.py:53: UserWarning: train_data has been renamed data\n",
      "  warnings.warn(\"train_data has been renamed data\")\n",
      "/Users/zhuvikin/anaconda3/envs/AIU_ML/lib/python3.7/site-packages/torchvision/datasets/mnist.py:43: UserWarning: train_labels has been renamed targets\n",
      "  warnings.warn(\"train_labels has been renamed targets\")\n",
      "/Users/zhuvikin/anaconda3/envs/AIU_ML/lib/python3.7/site-packages/torchvision/datasets/mnist.py:58: UserWarning: test_data has been renamed data\n",
      "  warnings.warn(\"test_data has been renamed data\")\n",
      "/Users/zhuvikin/anaconda3/envs/AIU_ML/lib/python3.7/site-packages/torchvision/datasets/mnist.py:48: UserWarning: test_labels has been renamed targets\n",
      "  warnings.warn(\"test_labels has been renamed targets\")\n"
     ]
    }
   ],
   "source": [
    "print('Train data size: ', train_set.train_data.size())\n",
    "print('Train data labels: ', train_set.train_labels.size())\n",
    "\n",
    "print('Test data size: ', test_set.test_data.size())\n",
    "print('Test data labels: ', test_set.test_labels.size())"
   ]
  },
  {
   "cell_type": "code",
   "execution_count": 5,
   "metadata": {},
   "outputs": [],
   "source": [
    "train_loader = DataLoader(train_set, batch_size=100)\n",
    "test_loader = DataLoader(train_set, batch_size=100)"
   ]
  },
  {
   "cell_type": "code",
   "execution_count": 6,
   "metadata": {},
   "outputs": [],
   "source": [
    "def output_label(label):\n",
    "    output_mapping = {\n",
    "                 0: \"T-shirt/Top\",\n",
    "                 1: \"Trouser\",\n",
    "                 2: \"Pullover\",\n",
    "                 3: \"Dress\",\n",
    "                 4: \"Coat\", \n",
    "                 5: \"Sandal\", \n",
    "                 6: \"Shirt\",\n",
    "                 7: \"Sneaker\",\n",
    "                 8: \"Bag\",\n",
    "                 9: \"Ankle Boot\"\n",
    "                 }\n",
    "    input = (label.item() if type(label) == torch.Tensor else label)\n",
    "    return output_mapping[input]"
   ]
  },
  {
   "cell_type": "code",
   "execution_count": 7,
   "metadata": {},
   "outputs": [
    {
     "data": {
      "text/plain": [
       "torch.Size([100, 1, 28, 28])"
      ]
     },
     "execution_count": 7,
     "metadata": {},
     "output_type": "execute_result"
    }
   ],
   "source": [
    "a = next(iter(train_loader))\n",
    "a[0].size()"
   ]
  },
  {
   "cell_type": "code",
   "execution_count": 8,
   "metadata": {},
   "outputs": [
    {
     "data": {
      "text/plain": [
       "60000"
      ]
     },
     "execution_count": 8,
     "metadata": {},
     "output_type": "execute_result"
    }
   ],
   "source": [
    "len(train_set)"
   ]
  },
  {
   "cell_type": "code",
   "execution_count": 9,
   "metadata": {},
   "outputs": [
    {
     "name": "stdout",
     "output_type": "stream",
     "text": [
      "<class 'torch.Tensor'> <class 'torch.Tensor'>\n",
      "torch.Size([10, 1, 28, 28]) torch.Size([10])\n"
     ]
    }
   ],
   "source": [
    "demo_loader = torch.utils.data.DataLoader(train_set, batch_size=10)\n",
    "\n",
    "batch = next(iter(demo_loader))\n",
    "images, labels = batch\n",
    "print(type(images), type(labels))\n",
    "print(images.shape, labels.shape)"
   ]
  },
  {
   "cell_type": "code",
   "execution_count": 10,
   "metadata": {},
   "outputs": [
    {
     "name": "stdout",
     "output_type": "stream",
     "text": [
      "labels:  Ankle Boot, T-shirt/Top, T-shirt/Top, Dress, T-shirt/Top, Pullover, Sneaker, Pullover, Sandal, Sandal, "
     ]
    },
    {
     "data": {
      "image/png": "[encoded data removed]",
      "text/plain": [
       "<Figure size 1080x1440 with 1 Axes>"
      ]
     },
     "metadata": {
      "needs_background": "light"
     },
     "output_type": "display_data"
    }
   ],
   "source": [
    "grid = torchvision.utils.make_grid(images, nrow=10)\n",
    "\n",
    "plt.figure(figsize=(15, 20))\n",
    "plt.imshow(np.transpose(grid, (1, 2, 0)))\n",
    "print(\"labels: \", end=\" \")\n",
    "for i, label in enumerate(labels):\n",
    "    print(output_label(label), end=\", \")"
   ]
  },
  {
   "cell_type": "code",
   "execution_count": 11,
   "metadata": {},
   "outputs": [],
   "source": [
    "class FashionCNN(nn.Module):\n",
    "    \n",
    "    def __init__(self):\n",
    "        super(FashionCNN, self).__init__()\n",
    "        \n",
    "        self.layer1 = nn.Sequential(\n",
    "            nn.Conv2d(in_channels=1, out_channels=6, kernel_size=5, padding=2, stride=1),\n",
    "            nn.ReLU(),\n",
    "            nn.MaxPool2d(kernel_size=2)\n",
    "        )\n",
    "        \n",
    "        self.layer2 = nn.Sequential(\n",
    "            nn.Conv2d(in_channels=6, out_channels=16, kernel_size=5, padding=0, stride=1),\n",
    "            nn.ReLU(),\n",
    "            nn.MaxPool2d(kernel_size=2)\n",
    "        )\n",
    "        \n",
    "        self.fc1 = nn.Linear(in_features=5 * 5 * 16, out_features=120)\n",
    "        self.fc2 = nn.Linear(in_features=120, out_features=84)\n",
    "        self.fc3 = nn.Linear(in_features=84, out_features=10)\n",
    "        \n",
    "    def forward(self, x):\n",
    "        out = self.layer1(x)\n",
    "        out = self.layer2(out)\n",
    "        out = out.view(out.size(0), -1)\n",
    "        out = self.fc1(out)\n",
    "        out = self.fc2(out)\n",
    "        out = self.fc3(out)\n",
    "        \n",
    "        return out"
   ]
  },
  {
   "cell_type": "code",
   "execution_count": 12,
   "metadata": {},
   "outputs": [
    {
     "name": "stdout",
     "output_type": "stream",
     "text": [
      "FashionCNN(\n",
      "  (layer1): Sequential(\n",
      "    (0): Conv2d(1, 6, kernel_size=(5, 5), stride=(1, 1), padding=(2, 2))\n",
      "    (1): ReLU()\n",
      "    (2): MaxPool2d(kernel_size=2, stride=2, padding=0, dilation=1, ceil_mode=False)\n",
      "  )\n",
      "  (layer2): Sequential(\n",
      "    (0): Conv2d(6, 16, kernel_size=(5, 5), stride=(1, 1))\n",
      "    (1): ReLU()\n",
      "    (2): MaxPool2d(kernel_size=2, stride=2, padding=0, dilation=1, ceil_mode=False)\n",
      "  )\n",
      "  (fc1): Linear(in_features=400, out_features=120, bias=True)\n",
      "  (fc2): Linear(in_features=120, out_features=84, bias=True)\n",
      "  (fc3): Linear(in_features=84, out_features=10, bias=True)\n",
      ")\n"
     ]
    }
   ],
   "source": [
    "model = FashionCNN()\n",
    "model.to(device)\n",
    "\n",
    "error = nn.CrossEntropyLoss()\n",
    "\n",
    "learning_rate = 0.001\n",
    "momentum = 0.9\n",
    "optimizer = torch.optim.SGD(model.parameters(), lr=learning_rate, momentum=momentum)\n",
    "print(model)"
   ]
  },
  {
   "cell_type": "code",
   "execution_count": 13,
   "metadata": {},
   "outputs": [
    {
     "name": "stdout",
     "output_type": "stream",
     "text": [
      "Iteration: 100, Loss: 2.297910690307617, Accuracy: 13%\n",
      "Iteration: 200, Loss: 2.290733575820923, Accuracy: 14%\n",
      "Iteration: 300, Loss: 2.212449312210083, Accuracy: 31%\n",
      "Iteration: 400, Loss: 1.8993228673934937, Accuracy: 55%\n",
      "Iteration: 500, Loss: 1.030419945716858, Accuracy: 60%\n",
      "Iteration: 600, Loss: 0.9308953881263733, Accuracy: 64%\n",
      "Iteration: 700, Loss: 0.9232054352760315, Accuracy: 66%\n",
      "Iteration: 800, Loss: 1.0317822694778442, Accuracy: 68%\n",
      "Iteration: 900, Loss: 0.7203885912895203, Accuracy: 70%\n",
      "Iteration: 1000, Loss: 0.814414381980896, Accuracy: 71%\n",
      "Iteration: 1100, Loss: 0.7738174200057983, Accuracy: 71%\n",
      "Iteration: 1200, Loss: 0.7429883480072021, Accuracy: 71%\n",
      "Iteration: 1300, Loss: 0.7831684947013855, Accuracy: 73%\n",
      "Iteration: 1400, Loss: 0.9301826357841492, Accuracy: 73%\n",
      "Iteration: 1500, Loss: 0.6035411953926086, Accuracy: 74%\n",
      "Iteration: 1600, Loss: 0.6998966932296753, Accuracy: 74%\n",
      "Iteration: 1700, Loss: 0.7143097519874573, Accuracy: 75%\n",
      "Iteration: 1800, Loss: 0.6821461319923401, Accuracy: 74%\n",
      "Iteration: 1900, Loss: 0.7022299766540527, Accuracy: 75%\n",
      "Iteration: 2000, Loss: 0.8779730200767517, Accuracy: 75%\n",
      "Iteration: 2100, Loss: 0.5335208177566528, Accuracy: 76%\n",
      "Iteration: 2200, Loss: 0.6473780274391174, Accuracy: 77%\n",
      "Iteration: 2300, Loss: 0.6876617670059204, Accuracy: 76%\n",
      "Iteration: 2400, Loss: 0.6234515309333801, Accuracy: 76%\n",
      "Iteration: 2500, Loss: 0.6240131855010986, Accuracy: 77%\n",
      "Iteration: 2600, Loss: 0.7689244747161865, Accuracy: 78%\n",
      "Iteration: 2700, Loss: 0.5007683634757996, Accuracy: 78%\n",
      "Iteration: 2800, Loss: 0.6065706014633179, Accuracy: 78%\n",
      "Iteration: 2900, Loss: 0.6505871415138245, Accuracy: 78%\n",
      "Iteration: 3000, Loss: 0.5780162215232849, Accuracy: 78%\n",
      "Iteration: 3100, Loss: 0.5621615648269653, Accuracy: 78%\n",
      "Iteration: 3200, Loss: 0.6788579821586609, Accuracy: 79%\n",
      "Iteration: 3300, Loss: 0.4790424406528473, Accuracy: 79%\n",
      "Iteration: 3400, Loss: 0.5565269589424133, Accuracy: 80%\n",
      "Iteration: 3500, Loss: 0.6191842555999756, Accuracy: 80%\n",
      "Iteration: 3600, Loss: 0.529229998588562, Accuracy: 80%\n",
      "Iteration: 3700, Loss: 0.523883581161499, Accuracy: 81%\n",
      "Iteration: 3800, Loss: 0.6193959712982178, Accuracy: 81%\n",
      "Iteration: 3900, Loss: 0.46071505546569824, Accuracy: 81%\n",
      "Iteration: 4000, Loss: 0.5231751799583435, Accuracy: 81%\n",
      "Iteration: 4100, Loss: 0.5953524708747864, Accuracy: 81%\n",
      "Iteration: 4200, Loss: 0.4988546371459961, Accuracy: 81%\n",
      "Iteration: 4300, Loss: 0.4829029142856598, Accuracy: 82%\n",
      "Iteration: 4400, Loss: 0.5676916837692261, Accuracy: 82%\n",
      "Iteration: 4500, Loss: 0.44619399309158325, Accuracy: 82%\n",
      "Iteration: 4600, Loss: 0.5017557740211487, Accuracy: 82%\n",
      "Iteration: 4700, Loss: 0.5780683755874634, Accuracy: 82%\n",
      "Iteration: 4800, Loss: 0.47690388560295105, Accuracy: 83%\n",
      "Iteration: 4900, Loss: 0.4447208344936371, Accuracy: 83%\n",
      "Iteration: 5000, Loss: 0.532253086566925, Accuracy: 83%\n",
      "Iteration: 5100, Loss: 0.4266822934150696, Accuracy: 83%\n",
      "Iteration: 5200, Loss: 0.48781341314315796, Accuracy: 83%\n",
      "Iteration: 5300, Loss: 0.5607497692108154, Accuracy: 83%\n",
      "Iteration: 5400, Loss: 0.462151437997818, Accuracy: 83%\n",
      "Iteration: 5500, Loss: 0.41369521617889404, Accuracy: 84%\n",
      "Iteration: 5600, Loss: 0.504157543182373, Accuracy: 83%\n",
      "Iteration: 5700, Loss: 0.41354086995124817, Accuracy: 83%\n",
      "Iteration: 5800, Loss: 0.4746707081794739, Accuracy: 84%\n",
      "Iteration: 5900, Loss: 0.5408323407173157, Accuracy: 84%\n",
      "Iteration: 6000, Loss: 0.45221373438835144, Accuracy: 84%\n"
     ]
    }
   ],
   "source": [
    "num_epochs = 10\n",
    "count = 0\n",
    "# Lists for visualization of loss and accuracy \n",
    "loss_list = []\n",
    "iteration_list = []\n",
    "accuracy_list = []\n",
    "\n",
    "# Lists for knowing classwise accuracy\n",
    "predictions_list = []\n",
    "labels_list = []\n",
    "\n",
    "for epoch in range(num_epochs):\n",
    "    for images, labels in train_loader:\n",
    "        # Transfering images and labels to GPU if available\n",
    "        images, labels = images.to(device), labels.to(device)\n",
    "    \n",
    "        train = Variable(images.view(100, 1, 28, 28))\n",
    "        labels = Variable(labels)\n",
    "        \n",
    "        # Forward pass \n",
    "        outputs = model(train)\n",
    "        loss = error(outputs, labels)\n",
    "        \n",
    "        # Initializing a gradient as 0 so there is no mixing of gradient among the batches\n",
    "        optimizer.zero_grad()\n",
    "        \n",
    "        #Propagating the error backward\n",
    "        loss.backward()\n",
    "        \n",
    "        # Optimizing the parameters\n",
    "        optimizer.step()\n",
    "    \n",
    "        count += 1\n",
    "    \n",
    "    # Testing the model\n",
    "    \n",
    "        if not (count % 50):    # It's same as \"if count % 50 == 0\"\n",
    "            total = 0\n",
    "            correct = 0\n",
    "        \n",
    "            for images, labels in test_loader:\n",
    "                images, labels = images.to(device), labels.to(device)\n",
    "                labels_list.append(labels)\n",
    "            \n",
    "                test = Variable(images.view(100, 1, 28, 28))\n",
    "            \n",
    "                outputs = model(test)\n",
    "            \n",
    "                predictions = torch.max(outputs, 1)[1].to(device)\n",
    "                predictions_list.append(predictions)\n",
    "                correct += (predictions == labels).sum()\n",
    "            \n",
    "                total += len(labels)\n",
    "            \n",
    "            accuracy = correct * 100 / total\n",
    "            loss_list.append(loss.data)\n",
    "            iteration_list.append(count)\n",
    "            accuracy_list.append(accuracy)\n",
    "        \n",
    "        if not (count % 100):\n",
    "            print(\"Iteration: {}, Loss: {}, Accuracy: {}%\".format(count, loss.data, accuracy))"
   ]
  },
  {
   "cell_type": "code",
   "execution_count": 17,
   "metadata": {},
   "outputs": [
    {
     "data": {
      "image/png": "[encoded data removed]",
      "text/plain": [
       "<Figure size 432x288 with 1 Axes>"
      ]
     },
     "metadata": {
      "needs_background": "light"
     },
     "output_type": "display_data"
    }
   ],
   "source": [
    "plt.plot(iteration_list, loss_list)\n",
    "plt.xlabel(\"No. of Iteration\")\n",
    "plt.ylabel(\"Loss\")\n",
    "plt.title(\"Iterations vs Loss\")\n",
    "plt.show()"
   ]
  },
  {
   "cell_type": "code",
   "execution_count": 18,
   "metadata": {},
   "outputs": [
    {
     "data": {
      "image/png": "[encoded data removed]",
      "text/plain": [
       "<Figure size 432x288 with 1 Axes>"
      ]
     },
     "metadata": {
      "needs_background": "light"
     },
     "output_type": "display_data"
    }
   ],
   "source": [
    "plt.plot(iteration_list, accuracy_list)\n",
    "plt.xlabel(\"No. of Iteration\")\n",
    "plt.ylabel(\"Accuracy\")\n",
    "plt.title(\"Iterations vs Accuracy\")\n",
    "plt.show()"
   ]
  },
  {
   "cell_type": "code",
   "execution_count": 19,
   "metadata": {},
   "outputs": [
    {
     "name": "stdout",
     "output_type": "stream",
     "text": [
      "Accuracy of T-shirt/Top: 90.02%\n",
      "Accuracy of Trouser: 96.18%\n",
      "Accuracy of Pullover: 70.37%\n",
      "Accuracy of Dress: 84.35%\n",
      "Accuracy of Coat: 74.37%\n",
      "Accuracy of Sandal: 92.93%\n",
      "Accuracy of Shirt: 51.95%\n",
      "Accuracy of Sneaker: 92.85%\n",
      "Accuracy of Bag: 95.70%\n",
      "Accuracy of Ankle Boot: 96.07%\n"
     ]
    }
   ],
   "source": [
    "class_correct = [0. for _ in range(10)]\n",
    "total_correct = [0. for _ in range(10)]\n",
    "\n",
    "with torch.no_grad():\n",
    "    for images, labels in test_loader:\n",
    "        images, labels = images.to(device), labels.to(device)\n",
    "        test = Variable(images)\n",
    "        outputs = model(test)\n",
    "        predicted = torch.max(outputs, 1)[1]\n",
    "        c = (predicted == labels).squeeze()\n",
    "        \n",
    "        for i in range(100):\n",
    "            label = labels[i]\n",
    "            class_correct[label] += c[i].item()\n",
    "            total_correct[label] += 1\n",
    "        \n",
    "for i in range(10):\n",
    "    print(\"Accuracy of {}: {:.2f}%\".format(output_label(i), class_correct[i] * 100 / total_correct[i]))"
   ]
  },
  {
   "cell_type": "code",
   "execution_count": null,
   "metadata": {},
   "outputs": [],
   "source": []
  }
 ],
 "metadata": {
  "kernelspec": {
   "display_name": "JKERNEL",
   "language": "python",
   "name": "jkernel"
  },
  "language_info": {
   "codemirror_mode": {
    "name": "ipython",
    "version": 3
   },
   "file_extension": ".py",
   "mimetype": "text/x-python",
   "name": "python",
   "nbconvert_exporter": "python",
   "pygments_lexer": "ipython3",
   "version": "3.7.3"
  }
 },
 "nbformat": 4,
 "nbformat_minor": 2
}
