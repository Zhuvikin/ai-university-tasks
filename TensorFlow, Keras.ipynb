{
 "cells": [
  {
   "cell_type": "markdown",
   "metadata": {},
   "source": [
    "<center><img src='https://cdn-images-1.medium.com/max/1600/1*3Q2EzYMZVBEKbY0gkd5oeg.jpeg'/> </center>"
   ]
  },
  {
   "cell_type": "markdown",
   "metadata": {},
   "source": [
    "What is Tensorflow?\n",
    "\n",
    "Tensorflow is Deeplearning framework from Google with a very huge stack. Google uses it almost in very application.\n",
    "It also runs on many devices CPU, GPU, TPU, Android, IOS, Embedded devices."
   ]
  },
  {
   "cell_type": "markdown",
   "metadata": {},
   "source": [
    "So what is Keras? Keras is high level API which allows us build neural networks by stacking building blocks on top of eachother. Keras uses a lot of different libraries to run on top of such as Tensorflow, CNTK, MaxNet, etc"
   ]
  },
  {
   "cell_type": "markdown",
   "metadata": {},
   "source": [
    "Tensorflow now also include Keras as tf.keras package. So we can either use Keras as a separate library or we can use tf.keras which will be pretty much the same as using Keras itself"
   ]
  },
  {
   "cell_type": "markdown",
   "metadata": {},
   "source": [
    "Back in the days when you wanted to use Tensorflow you would write smth like this"
   ]
  },
  {
   "cell_type": "code",
   "execution_count": 1,
   "metadata": {},
   "outputs": [],
   "source": [
    "# # tf Graph input\n",
    "# X = tf.placeholder(\"float\", [None, num_input])\n",
    "# Y = tf.placeholder(\"float\", [None, num_classes])\n",
    "\n",
    "# # Store layers weight & bias\n",
    "# weights = {\n",
    "#     'h1': tf.Variable(tf.random_normal([num_input, n_hidden_1])),\n",
    "#     'h2': tf.Variable(tf.random_normal([n_hidden_1, n_hidden_2])),\n",
    "#     'out': tf.Variable(tf.random_normal([n_hidden_2, num_classes]))\n",
    "# }\n",
    "# biases = {\n",
    "#     'b1': tf.Variable(tf.random_normal([n_hidden_1])),\n",
    "#     'b2': tf.Variable(tf.random_normal([n_hidden_2])),\n",
    "#     'out': tf.Variable(tf.random_normal([num_classes]))\n",
    "# }\n",
    "\n",
    "\n",
    "# # Create model\n",
    "# def neural_net(x):\n",
    "#     # Hidden fully connected layer with 256 neurons\n",
    "#     layer_1 = tf.add(tf.matmul(x, weights['h1']), biases['b1'])\n",
    "#     # Hidden fully connected layer with 256 neurons\n",
    "#     layer_2 = tf.add(tf.matmul(layer_1, weights['h2']), biases['b2'])\n",
    "#     # Output fully connected layer with a neuron for each class\n",
    "#     out_layer = tf.matmul(layer_2, weights['out']) + biases['out']\n",
    "#     return out_layer\n",
    "\n",
    "# # Construct model\n",
    "# logits = neural_net(X)\n",
    "# prediction = tf.nn.softmax(logits)\n",
    "\n",
    "# # Define loss and optimizer\n",
    "# loss_op = tf.reduce_mean(tf.nn.softmax_cross_entropy_with_logits(\n",
    "#     logits=logits, labels=Y))\n",
    "# optimizer = tf.train.AdamOptimizer(learning_rate=learning_rate)\n",
    "# train_op = optimizer.minimize(loss_op)\n",
    "\n",
    "# # Evaluate model\n",
    "# correct_pred = tf.equal(tf.argmax(prediction, 1), tf.argmax(Y, 1))\n",
    "# accuracy = tf.reduce_mean(tf.cast(correct_pred, tf.float32))\n",
    "\n",
    "# # Initialize the variables (i.e. assign their default value)\n",
    "# init = tf.global_variables_initializer()\n",
    "\n",
    "# # Start training\n",
    "# with tf.Session() as sess:\n",
    "\n",
    "#     # Run the initializer\n",
    "#     sess.run(init)\n",
    "\n",
    "#     for step in range(1, num_steps+1):\n",
    "#         batch_x, batch_y = mnist.train.next_batch(batch_size)\n",
    "#         # Run optimization op (backprop)\n",
    "#         sess.run(train_op, feed_dict={X: batch_x, Y: batch_y})\n",
    "#         if step % display_step == 0 or step == 1:\n",
    "#             # Calculate batch loss and accuracy\n",
    "#             loss, acc = sess.run([loss_op, accuracy], feed_dict={X: batch_x,\n",
    "#                                                                  Y: batch_y})\n",
    "#             print(\"Step \" + str(step) + \", Minibatch Loss= \" + \\\n",
    "#                   \"{:.4f}\".format(loss) + \", Training Accuracy= \" + \\\n",
    "#                   \"{:.3f}\".format(acc))\n",
    "\n",
    "#     print(\"Optimization Finished!\")\n",
    "\n",
    "#     # Calculate accuracy for MNIST test images\n",
    "#     print(\"Testing Accuracy:\", \\\n",
    "#         sess.run(accuracy, feed_dict={X: mnist.test.images,\n",
    "# Y: mnist.test.labels}))"
   ]
  },
  {
   "cell_type": "code",
   "execution_count": 2,
   "metadata": {},
   "outputs": [],
   "source": [
    "import numpy as np\n",
    "\n",
    "import tensorflow as tf\n",
    "from tensorflow import keras\n",
    "\n",
    "import matplotlib.pyplot as plt\n",
    "\n",
    "%matplotlib inline\n"
   ]
  },
  {
   "cell_type": "code",
   "execution_count": 3,
   "metadata": {},
   "outputs": [],
   "source": [
    "fashion_mnist = keras.datasets.fashion_mnist"
   ]
  },
  {
   "cell_type": "code",
   "execution_count": 4,
   "metadata": {},
   "outputs": [],
   "source": [
    "(x_train, y_train), (x_test, y_test) = fashion_mnist.load_data()"
   ]
  },
  {
   "cell_type": "code",
   "execution_count": 5,
   "metadata": {},
   "outputs": [
    {
     "name": "stdout",
     "output_type": "stream",
     "text": [
      "Train data size  (60000, 28, 28)\n",
      "Train label size (60000,)\n"
     ]
    }
   ],
   "source": [
    "print('Train data size ', x_train.shape)\n",
    "print('Train label size', y_train.shape)"
   ]
  },
  {
   "cell_type": "code",
   "execution_count": 6,
   "metadata": {},
   "outputs": [],
   "source": [
    "x_train, x_test = x_train / 255.0, x_test / 255.0"
   ]
  },
  {
   "cell_type": "code",
   "execution_count": 7,
   "metadata": {},
   "outputs": [],
   "source": [
    "class_names = ['T-shirt/top', 'Trouser', 'Pullover', 'Dress', 'Coat',\n",
    "               'Sandal', 'Shirt', 'Sneaker', 'Bag', 'Ankle boot']"
   ]
  },
  {
   "cell_type": "code",
   "execution_count": 8,
   "metadata": {},
   "outputs": [],
   "source": [
    "model = keras.Sequential([\n",
    "    keras.layers.Flatten(input_shape = (28, 28)),\n",
    "    keras.layers.Dense(64, activation=tf.nn.relu),\n",
    "    keras.layers.Dense(10, activation=tf.nn.softmax)\n",
    "])"
   ]
  },
  {
   "cell_type": "code",
   "execution_count": 9,
   "metadata": {},
   "outputs": [
    {
     "name": "stdout",
     "output_type": "stream",
     "text": [
      "_________________________________________________________________\n",
      "Layer (type)                 Output Shape              Param #   \n",
      "=================================================================\n",
      "flatten (Flatten)            (None, 784)               0         \n",
      "_________________________________________________________________\n",
      "dense (Dense)                (None, 64)                50240     \n",
      "_________________________________________________________________\n",
      "dense_1 (Dense)              (None, 10)                650       \n",
      "=================================================================\n",
      "Total params: 50,890\n",
      "Trainable params: 50,890\n",
      "Non-trainable params: 0\n",
      "_________________________________________________________________\n"
     ]
    }
   ],
   "source": [
    "model.summary()"
   ]
  },
  {
   "cell_type": "markdown",
   "metadata": {},
   "source": [
    "Before we start training our model we, first, should add more settings for it. This is done during model compile step."
   ]
  },
  {
   "cell_type": "code",
   "execution_count": 10,
   "metadata": {},
   "outputs": [],
   "source": [
    "model.compile(optimizer=tf.train.AdamOptimizer(), # this update the weights of our model\n",
    "              loss='sparse_categorical_crossentropy',  # this mesures how accurate our model during training\n",
    "              metrics=['acc']) # this used for monitoring the training and testing steps"
   ]
  },
  {
   "cell_type": "code",
   "execution_count": 11,
   "metadata": {},
   "outputs": [
    {
     "name": "stdout",
     "output_type": "stream",
     "text": [
      "Epoch 1/10\n",
      "60000/60000 [==============================] - 3s 45us/step - loss: 0.5188 - acc: 0.8191\n",
      "Epoch 2/10\n",
      "60000/60000 [==============================] - 2s 36us/step - loss: 0.3926 - acc: 0.8600\n",
      "Epoch 3/10\n",
      "60000/60000 [==============================] - 2s 36us/step - loss: 0.3517 - acc: 0.8731\n",
      "Epoch 4/10\n",
      "60000/60000 [==============================] - 2s 36us/step - loss: 0.3259 - acc: 0.8822\n",
      "Epoch 5/10\n",
      "60000/60000 [==============================] - 2s 36us/step - loss: 0.3084 - acc: 0.8870\n",
      "Epoch 6/10\n",
      "60000/60000 [==============================] - 2s 36us/step - loss: 0.2961 - acc: 0.8909\n",
      "Epoch 7/10\n",
      "60000/60000 [==============================] - 2s 36us/step - loss: 0.2824 - acc: 0.8964\n",
      "Epoch 8/10\n",
      "60000/60000 [==============================] - 2s 36us/step - loss: 0.2741 - acc: 0.8988\n",
      "Epoch 9/10\n",
      "60000/60000 [==============================] - 2s 36us/step - loss: 0.2653 - acc: 0.9011\n",
      "Epoch 10/10\n",
      "60000/60000 [==============================] - 2s 36us/step - loss: 0.2567 - acc: 0.9052\n"
     ]
    },
    {
     "data": {
      "text/plain": [
       "<tensorflow.python.keras.callbacks.History at 0x7f1b528ade80>"
      ]
     },
     "execution_count": 11,
     "metadata": {},
     "output_type": "execute_result"
    }
   ],
   "source": [
    "model.fit(x_train, y_train, epochs=10)"
   ]
  },
  {
   "cell_type": "code",
   "execution_count": 12,
   "metadata": {},
   "outputs": [
    {
     "name": "stdout",
     "output_type": "stream",
     "text": [
      "10000/10000 [==============================] - 0s 27us/step\n",
      "Test accuracy: 0.877\n"
     ]
    }
   ],
   "source": [
    "test_loss, test_acc = model.evaluate(x_test, y_test)\n",
    "\n",
    "print('Test accuracy:', test_acc)"
   ]
  },
  {
   "cell_type": "markdown",
   "metadata": {},
   "source": [
    "Having trained our neural network, we can start making predictions"
   ]
  },
  {
   "cell_type": "code",
   "execution_count": 13,
   "metadata": {},
   "outputs": [],
   "source": [
    "predictions = model.predict(x_test)"
   ]
  },
  {
   "cell_type": "code",
   "execution_count": 14,
   "metadata": {},
   "outputs": [
    {
     "data": {
      "text/plain": [
       "9"
      ]
     },
     "execution_count": 14,
     "metadata": {},
     "output_type": "execute_result"
    }
   ],
   "source": [
    "np.argmax(predictions[0])"
   ]
  },
  {
   "cell_type": "code",
   "execution_count": 15,
   "metadata": {},
   "outputs": [],
   "source": [
    "def plot_image(i, predictions_array, true_label, img):\n",
    "    predictions_array, true_label, img = predictions_array[i], true_label[i], img[i]\n",
    "    plt.grid(False)\n",
    "    plt.xticks([])\n",
    "    plt.yticks([])\n",
    "\n",
    "    plt.imshow(img, cmap=plt.cm.binary)\n",
    "\n",
    "    predicted_label = np.argmax(predictions_array)\n",
    "    if predicted_label == true_label:\n",
    "        color = 'blue'\n",
    "    else:\n",
    "        color = 'red'\n",
    "\n",
    "    plt.xlabel(\"{} {:2.0f}% ({})\".format(class_names[predicted_label],\n",
    "                                100*np.max(predictions_array),\n",
    "                                class_names[true_label]),\n",
    "                                color=color)\n",
    "\n",
    "def plot_value_array(i, predictions_array, true_label):\n",
    "    predictions_array, true_label = predictions_array[i], true_label[i]\n",
    "    plt.grid(False)\n",
    "    plt.xticks([])\n",
    "    plt.yticks([])\n",
    "    thisplot = plt.bar(range(10), predictions_array, color=\"#777777\")\n",
    "    plt.ylim([0, 1])\n",
    "    predicted_label = np.argmax(predictions_array)\n",
    "\n",
    "    thisplot[predicted_label].set_color('red')\n",
    "    thisplot[true_label].set_color('blue')"
   ]
  },
  {
   "cell_type": "code",
   "execution_count": 16,
   "metadata": {},
   "outputs": [
    {
     "data": {
      "image/png": "[encoded data removed]",
      "text/plain": [
       "<Figure size 864x720 with 30 Axes>"
      ]
     },
     "metadata": {},
     "output_type": "display_data"
    }
   ],
   "source": [
    "num_rows = 5\n",
    "num_cols = 3\n",
    "num_images = num_rows*num_cols\n",
    "plt.figure(figsize=(2*2*num_cols, 2*num_rows))\n",
    "for i in range(num_images):\n",
    "    plt.subplot(num_rows, 2*num_cols, 2*i+1)\n",
    "    plot_image(i, predictions, y_test, x_test)\n",
    "    plt.subplot(num_rows, 2*num_cols, 2*i+2)\n",
    "    plot_value_array(i, predictions, y_test)\n",
    "plt.show()"
   ]
  },
  {
   "cell_type": "markdown",
   "metadata": {},
   "source": [
    "### Exercise\n",
    "\n",
    "So let's try to play with this model and see if you can make it better than it is. Try to add more layer or change the number epochs."
   ]
  },
  {
   "cell_type": "markdown",
   "metadata": {},
   "source": [
    "### Text classification"
   ]
  },
  {
   "cell_type": "markdown",
   "metadata": {},
   "source": [
    "Let's try to solve a text classification problem by using tensorflow. Tensorflow comes with prepackaged IMDB dataset. It's already preprocessed such that the reviews which are sequences of words converted to integers where each integer represents a word"
   ]
  },
  {
   "cell_type": "markdown",
   "metadata": {},
   "source": [
    "Let's first download the dataset"
   ]
  },
  {
   "cell_type": "code",
   "execution_count": 17,
   "metadata": {},
   "outputs": [],
   "source": [
    "imdb = keras.datasets.imdb\n",
    "\n",
    "# num_words = 10000 keeps top 10000 most frequently used words\n",
    "\n",
    "(train_x, train_y), (test_x, test_y) = imdb.load_data(num_words=10000)"
   ]
  },
  {
   "cell_type": "code",
   "execution_count": 18,
   "metadata": {},
   "outputs": [
    {
     "name": "stdout",
     "output_type": "stream",
     "text": [
      "Dataset size 25000, labels 25000\n"
     ]
    }
   ],
   "source": [
    "print(\"Dataset size {}, labels {}\".format(len(train_x), len(train_y)))"
   ]
  },
  {
   "cell_type": "markdown",
   "metadata": {},
   "source": [
    "Each review has different length"
   ]
  },
  {
   "cell_type": "code",
   "execution_count": 19,
   "metadata": {},
   "outputs": [
    {
     "name": "stdout",
     "output_type": "stream",
     "text": [
      "218 597\n"
     ]
    }
   ],
   "source": [
    "print(len(train_x[0]), len(train_x[34]))"
   ]
  },
  {
   "cell_type": "markdown",
   "metadata": {},
   "source": [
    "So, how can we understand which number represents what word?"
   ]
  },
  {
   "cell_type": "code",
   "execution_count": 20,
   "metadata": {},
   "outputs": [],
   "source": [
    "word_index = imdb.get_word_index()"
   ]
  },
  {
   "cell_type": "code",
   "execution_count": 21,
   "metadata": {},
   "outputs": [],
   "source": [
    "# first indecies are reserved\n",
    "word_index = {i: (j + 3) for i, j in word_index.items()}\n",
    "word_index[\"<PAD>\"] = 0\n",
    "word_index[\"<START>\"] = 1\n",
    "word_index[\"<UNK>\"] = 2\n",
    "word_index[\"<UNUSED>\"] = 3\n",
    "\n",
    "reverse_word_index = dict([(value, key) for (key, value) in word_index.items()])\n",
    "\n",
    "decode_index = lambda x: ' '.join([reverse_word_index.get(i, '?') for i in x])"
   ]
  },
  {
   "cell_type": "code",
   "execution_count": 22,
   "metadata": {},
   "outputs": [
    {
     "data": {
      "text/plain": [
       "\"<START> this has to be one of the worst films of the 1990s when my friends i were watching this film being the target audience it was aimed at we just sat watched the first half an hour with our jaws touching the floor at how bad it really was the rest of the time everyone else in the theatre just started talking to each other leaving or generally crying into their popcorn that they actually paid money they had <UNK> working to watch this feeble excuse for a film it must have looked like a great idea on paper but on film it looks like no one in the film has a clue what is going on crap acting crap costumes i can't get across how <UNK> this is to watch save yourself an hour a bit of your life\""
      ]
     },
     "execution_count": 22,
     "metadata": {},
     "output_type": "execute_result"
    }
   ],
   "source": [
    "decode_index(train_x[2])"
   ]
  },
  {
   "cell_type": "markdown",
   "metadata": {},
   "source": [
    "The reviews are arrays of integers. They must be converted to tensors before we feed them into the NN."
   ]
  },
  {
   "cell_type": "code",
   "execution_count": 23,
   "metadata": {},
   "outputs": [],
   "source": [
    "train_x = keras.preprocessing.sequence.pad_sequences(train_x, \n",
    "                                                        value=word_index['<PAD>'], \n",
    "                                                        padding='post', \n",
    "                                                        maxlen=256)\n",
    "test_x = keras.preprocessing.sequence.pad_sequences(test_x, \n",
    "                                                       value=word_index['<PAD>'], \n",
    "                                                       padding='post', \n",
    "                                                       maxlen=256)"
   ]
  },
  {
   "cell_type": "code",
   "execution_count": 24,
   "metadata": {},
   "outputs": [
    {
     "name": "stdout",
     "output_type": "stream",
     "text": [
      "256 256\n"
     ]
    }
   ],
   "source": [
    "print(len(train_x[0]), len(train_x[34]))"
   ]
  },
  {
   "cell_type": "code",
   "execution_count": 25,
   "metadata": {},
   "outputs": [
    {
     "name": "stdout",
     "output_type": "stream",
     "text": [
      "[   1   14   47    8   30   31    7    4  249  108    7    4 5974   54\n",
      "   61  369   13   71  149   14   22  112    4 2401  311   12   16 3711\n",
      "   33   75   43 1829  296    4   86  320   35  534   19  263 4821 1301\n",
      "    4 1873   33   89   78   12   66   16    4  360    7    4   58  316\n",
      "  334   11    4 1716   43  645  662    8  257   85 1200   42 1228 2578\n",
      "   83   68 3912   15   36  165 1539  278   36   69    2  780    8  106\n",
      "   14 6905 1338   18    6   22   12  215   28  610   40    6   87  326\n",
      "   23 2300   21   23   22   12  272   40   57   31   11    4   22   47\n",
      "    6 2307   51    9  170   23  595  116  595 1352   13  191   79  638\n",
      "   89    2   14    9    8  106  607  624   35  534    6  227    7  129\n",
      "  113    0    0    0    0    0    0    0    0    0    0    0    0    0\n",
      "    0    0    0    0    0    0    0    0    0    0    0    0    0    0\n",
      "    0    0    0    0    0    0    0    0    0    0    0    0    0    0\n",
      "    0    0    0    0    0    0    0    0    0    0    0    0    0    0\n",
      "    0    0    0    0    0    0    0    0    0    0    0    0    0    0\n",
      "    0    0    0    0    0    0    0    0    0    0    0    0    0    0\n",
      "    0    0    0    0    0    0    0    0    0    0    0    0    0    0\n",
      "    0    0    0    0    0    0    0    0    0    0    0    0    0    0\n",
      "    0    0    0    0]\n"
     ]
    }
   ],
   "source": [
    "print(train_x[2])"
   ]
  },
  {
   "cell_type": "markdown",
   "metadata": {},
   "source": [
    "Let's build our model."
   ]
  },
  {
   "cell_type": "markdown",
   "metadata": {},
   "source": [
    "As we saw earlier NN is a stack of layers. So when we are building our model we have to make several decisions: \n",
    "1. How many layers?\n",
    "2. How many hidden units to use for each layer?"
   ]
  },
  {
   "cell_type": "code",
   "execution_count": 26,
   "metadata": {},
   "outputs": [],
   "source": [
    "voc_size = 10000\n",
    "\n",
    "model = keras.Sequential([\n",
    "    keras.layers.Embedding(voc_size, 16),\n",
    "    keras.layers.GlobalAveragePooling1D(),\n",
    "    keras.layers.Dense(16, activation = tf.nn.relu),\n",
    "    keras.layers.Dense(1, activation= tf.nn.sigmoid)\n",
    "])"
   ]
  },
  {
   "cell_type": "code",
   "execution_count": 27,
   "metadata": {},
   "outputs": [
    {
     "name": "stdout",
     "output_type": "stream",
     "text": [
      "_________________________________________________________________\n",
      "Layer (type)                 Output Shape              Param #   \n",
      "=================================================================\n",
      "embedding (Embedding)        (None, None, 16)          160000    \n",
      "_________________________________________________________________\n",
      "global_average_pooling1d (Gl (None, 16)                0         \n",
      "_________________________________________________________________\n",
      "dense_2 (Dense)              (None, 16)                272       \n",
      "_________________________________________________________________\n",
      "dense_3 (Dense)              (None, 1)                 17        \n",
      "=================================================================\n",
      "Total params: 160,289\n",
      "Trainable params: 160,289\n",
      "Non-trainable params: 0\n",
      "_________________________________________________________________\n"
     ]
    }
   ],
   "source": [
    "model.summary()"
   ]
  },
  {
   "cell_type": "markdown",
   "metadata": {},
   "source": [
    "Next step, we should define a loss function and optimizer for our model. Since this is a binary classification problem and the model outputs the probability we can use binary_crossentropy loss function which is better for dealing with probabilities than mean_squared_error"
   ]
  },
  {
   "cell_type": "code",
   "execution_count": 28,
   "metadata": {},
   "outputs": [],
   "source": [
    "model.compile(optimizer=tf.keras.optimizers.Adam(), loss='binary_crossentropy', metrics=['accuracy'])"
   ]
  },
  {
   "cell_type": "markdown",
   "metadata": {},
   "source": [
    "Let's also create a validation set which allows to test our model on the data that it hasn't seen before"
   ]
  },
  {
   "cell_type": "code",
   "execution_count": 29,
   "metadata": {},
   "outputs": [],
   "source": [
    "val_x = train_x[:10000]\n",
    "x_train = train_x[10000:]\n",
    "\n",
    "val_y = train_y[:10000]\n",
    "y_train = train_y[10000:]"
   ]
  },
  {
   "cell_type": "markdown",
   "metadata": {},
   "source": [
    "Having preprocessed our data, splited it into train, test, and validation sets we can start training our model"
   ]
  },
  {
   "cell_type": "code",
   "execution_count": 30,
   "metadata": {},
   "outputs": [
    {
     "name": "stderr",
     "output_type": "stream",
     "text": [
      "/home/troy/anaconda3/envs/cv_proj/lib/python3.6/site-packages/tensorflow/python/ops/gradients_impl.py:112: UserWarning: Converting sparse IndexedSlices to a dense Tensor of unknown shape. This may consume a large amount of memory.\n",
      "  \"Converting sparse IndexedSlices to a dense Tensor of unknown shape. \"\n"
     ]
    },
    {
     "name": "stdout",
     "output_type": "stream",
     "text": [
      "Train on 15000 samples, validate on 10000 samples\n",
      "Epoch 1/30\n",
      "15000/15000 [==============================] - 0s 31us/step - loss: 0.6905 - acc: 0.6322 - val_loss: 0.6851 - val_acc: 0.7349\n",
      "Epoch 2/30\n",
      "15000/15000 [==============================] - 0s 12us/step - loss: 0.6699 - acc: 0.7532 - val_loss: 0.6515 - val_acc: 0.7680\n",
      "Epoch 3/30\n",
      "15000/15000 [==============================] - 0s 12us/step - loss: 0.6144 - acc: 0.7922 - val_loss: 0.5822 - val_acc: 0.7792\n",
      "Epoch 4/30\n",
      "15000/15000 [==============================] - 0s 12us/step - loss: 0.5276 - acc: 0.8247 - val_loss: 0.4967 - val_acc: 0.8237\n",
      "Epoch 5/30\n",
      "15000/15000 [==============================] - 0s 12us/step - loss: 0.4383 - acc: 0.8583 - val_loss: 0.4239 - val_acc: 0.8477\n",
      "Epoch 6/30\n",
      "15000/15000 [==============================] - 0s 12us/step - loss: 0.3684 - acc: 0.8777 - val_loss: 0.3746 - val_acc: 0.8588\n",
      "Epoch 7/30\n",
      "15000/15000 [==============================] - 0s 12us/step - loss: 0.3182 - acc: 0.8902 - val_loss: 0.3408 - val_acc: 0.8704\n",
      "Epoch 8/30\n",
      "15000/15000 [==============================] - 0s 12us/step - loss: 0.2821 - acc: 0.9005 - val_loss: 0.3199 - val_acc: 0.8748\n",
      "Epoch 9/30\n",
      "15000/15000 [==============================] - 0s 12us/step - loss: 0.2543 - acc: 0.9099 - val_loss: 0.3066 - val_acc: 0.8784\n",
      "Epoch 10/30\n",
      "15000/15000 [==============================] - 0s 12us/step - loss: 0.2321 - acc: 0.9165 - val_loss: 0.2977 - val_acc: 0.8802\n",
      "Epoch 11/30\n",
      "15000/15000 [==============================] - 0s 12us/step - loss: 0.2128 - acc: 0.9244 - val_loss: 0.2895 - val_acc: 0.8842\n",
      "Epoch 12/30\n",
      "15000/15000 [==============================] - 0s 12us/step - loss: 0.1960 - acc: 0.9317 - val_loss: 0.2864 - val_acc: 0.8837\n",
      "Epoch 13/30\n",
      "15000/15000 [==============================] - 0s 12us/step - loss: 0.1820 - acc: 0.9384 - val_loss: 0.2825 - val_acc: 0.8867\n",
      "Epoch 14/30\n",
      "15000/15000 [==============================] - 0s 12us/step - loss: 0.1687 - acc: 0.9445 - val_loss: 0.2818 - val_acc: 0.8868\n",
      "Epoch 15/30\n",
      "15000/15000 [==============================] - 0s 12us/step - loss: 0.1570 - acc: 0.9496 - val_loss: 0.2820 - val_acc: 0.8877\n",
      "Epoch 16/30\n",
      "15000/15000 [==============================] - 0s 12us/step - loss: 0.1467 - acc: 0.9530 - val_loss: 0.2837 - val_acc: 0.8879\n",
      "Epoch 17/30\n",
      "15000/15000 [==============================] - 0s 12us/step - loss: 0.1367 - acc: 0.9574 - val_loss: 0.2864 - val_acc: 0.8865\n",
      "Epoch 18/30\n",
      "15000/15000 [==============================] - 0s 13us/step - loss: 0.1280 - acc: 0.9604 - val_loss: 0.2913 - val_acc: 0.8864\n",
      "Epoch 19/30\n",
      "15000/15000 [==============================] - 0s 12us/step - loss: 0.1200 - acc: 0.9647 - val_loss: 0.2941 - val_acc: 0.8872\n",
      "Epoch 20/30\n",
      "15000/15000 [==============================] - 0s 12us/step - loss: 0.1118 - acc: 0.9683 - val_loss: 0.2972 - val_acc: 0.8853\n",
      "Epoch 21/30\n",
      "15000/15000 [==============================] - 0s 11us/step - loss: 0.1056 - acc: 0.9713 - val_loss: 0.3033 - val_acc: 0.8854\n",
      "Epoch 22/30\n",
      "15000/15000 [==============================] - 0s 11us/step - loss: 0.0984 - acc: 0.9735 - val_loss: 0.3073 - val_acc: 0.8840\n",
      "Epoch 23/30\n",
      "15000/15000 [==============================] - 0s 12us/step - loss: 0.0922 - acc: 0.9761 - val_loss: 0.3133 - val_acc: 0.8837\n",
      "Epoch 24/30\n",
      "15000/15000 [==============================] - 0s 11us/step - loss: 0.0868 - acc: 0.9779 - val_loss: 0.3191 - val_acc: 0.8823\n",
      "Epoch 25/30\n",
      "15000/15000 [==============================] - 0s 12us/step - loss: 0.0814 - acc: 0.9805 - val_loss: 0.3267 - val_acc: 0.8813\n",
      "Epoch 26/30\n",
      "15000/15000 [==============================] - 0s 12us/step - loss: 0.0762 - acc: 0.9823 - val_loss: 0.3334 - val_acc: 0.8801\n",
      "Epoch 27/30\n",
      "15000/15000 [==============================] - 0s 13us/step - loss: 0.0724 - acc: 0.9837 - val_loss: 0.3475 - val_acc: 0.8763\n",
      "Epoch 28/30\n",
      "15000/15000 [==============================] - 0s 13us/step - loss: 0.0677 - acc: 0.9857 - val_loss: 0.3482 - val_acc: 0.8779\n",
      "Epoch 29/30\n",
      "15000/15000 [==============================] - 0s 13us/step - loss: 0.0633 - acc: 0.9867 - val_loss: 0.3547 - val_acc: 0.8790\n",
      "Epoch 30/30\n",
      "15000/15000 [==============================] - 0s 12us/step - loss: 0.0598 - acc: 0.9886 - val_loss: 0.3639 - val_acc: 0.8773\n"
     ]
    }
   ],
   "source": [
    "history = model.fit(x_train,\n",
    "                   y_train,\n",
    "                   epochs=30,\n",
    "                   batch_size=256,\n",
    "                   validation_data=(val_x, val_y),\n",
    "                   verbose=1)"
   ]
  },
  {
   "cell_type": "markdown",
   "metadata": {},
   "source": [
    "Now when we are happy with our training and validation accuracy we can test our model on the test set"
   ]
  },
  {
   "cell_type": "code",
   "execution_count": 31,
   "metadata": {},
   "outputs": [
    {
     "name": "stdout",
     "output_type": "stream",
     "text": [
      "25000/25000 [==============================] - 1s 21us/step\n"
     ]
    }
   ],
   "source": [
    "results = model.evaluate(test_x, test_y)"
   ]
  },
  {
   "cell_type": "code",
   "execution_count": 32,
   "metadata": {},
   "outputs": [
    {
     "name": "stdout",
     "output_type": "stream",
     "text": [
      "Test loss 0.3874214177465439, Test accuracy 0.86684\n"
     ]
    }
   ],
   "source": [
    "print('Test loss {}, Test accuracy {}'.format(results[0], results[1]))"
   ]
  },
  {
   "cell_type": "markdown",
   "metadata": {},
   "source": [
    "Let's also try to analize our training process by plotting it on the graph"
   ]
  },
  {
   "cell_type": "code",
   "execution_count": 33,
   "metadata": {},
   "outputs": [
    {
     "data": {
      "text/plain": [
       "dict_keys(['val_loss', 'val_acc', 'loss', 'acc'])"
      ]
     },
     "execution_count": 33,
     "metadata": {},
     "output_type": "execute_result"
    }
   ],
   "source": [
    "history_dict = history.history\n",
    "history_dict.keys()"
   ]
  },
  {
   "cell_type": "code",
   "execution_count": 34,
   "metadata": {},
   "outputs": [
    {
     "data": {
      "image/png": "[encoded data removed]",
      "text/plain": [
       "<Figure size 432x288 with 1 Axes>"
      ]
     },
     "metadata": {
      "needs_background": "light"
     },
     "output_type": "display_data"
    }
   ],
   "source": [
    "accuracy = history_dict['acc']\n",
    "val_accuracy = history_dict['val_acc']\n",
    "val_loss = history_dict['val_loss']\n",
    "loss = history_dict['loss']\n",
    "\n",
    "epochs = range(1, len(accuracy) + 1)\n",
    "\n",
    "plt.plot(epochs, loss, 'b', label='Training loss')\n",
    "plt.plot(epochs, val_loss, 'r', label='Validation loss')\n",
    "plt.title('Training vs Validation loss')\n",
    "plt.xlabel('Epochs')\n",
    "plt.ylabel('Loss')\n",
    "plt.legend()\n",
    "plt.show()"
   ]
  },
  {
   "cell_type": "code",
   "execution_count": 35,
   "metadata": {},
   "outputs": [
    {
     "data": {
      "image/png": "[encoded data removed]",
      "text/plain": [
       "<Figure size 432x288 with 1 Axes>"
      ]
     },
     "metadata": {
      "needs_background": "light"
     },
     "output_type": "display_data"
    }
   ],
   "source": [
    "# clear figure\n",
    "plt.clf()\n",
    "\n",
    "plt.plot(epochs, accuracy, 'b', label='Training accuracy')\n",
    "plt.plot(epochs, val_accuracy, 'r', label='Validation accuracy')\n",
    "plt.title('Training accuracy vs Validation accuracy')\n",
    "plt.xlabel('Epochs')\n",
    "plt.ylabel('Accuracy')\n",
    "plt.legend()\n",
    "plt.show()"
   ]
  },
  {
   "cell_type": "markdown",
   "metadata": {},
   "source": [
    "From the plots we can see that our model is clearly overfits the data. The big gap between two lines indicates that. From the first plot we can also see that the validation loss stops decreasing just after about 15 epochs or so but the training loss keeps decreasing which means that our model start learning some unwated patterns from our data."
   ]
  },
  {
   "cell_type": "markdown",
   "metadata": {},
   "source": [
    "### Exercise\n",
    "\n",
    "Play with this example a little bit. Try to change the number of of dictionary, change size of validation set, change the optmizer from Adam to SGD, change the number of epochs, change the batch size. Plot the results and report them."
   ]
  },
  {
   "cell_type": "markdown",
   "metadata": {},
   "source": [
    "### Literature:  \n",
    "\n",
    "1. https://www.tensorflow.org/guide/\n",
    "2. https://pytorch.org/tutorials/\n",
    "3. https://keras.io/\n",
    "5. Grokking Deep Learning, Andrew W. Trask\n",
    "6. Deep Learning with Python, FRANÇOIS CHOLLET - Best book about Keras from creator of Keras\n",
    "7. Deep learning with PyTorch, Eli Stevens and Luca Antiga\n",
    "8. Deep learning specialization, Coursera https://www.coursera.org/specializations/deep-learning\n",
    "9. TensorFlow in Practice Specialization, Coursera https://www.coursera.org/specializations/tensorflow-in-practice"
   ]
  },
  {
   "cell_type": "code",
   "execution_count": null,
   "metadata": {},
   "outputs": [],
   "source": []
  }
 ],
 "metadata": {
  "kernelspec": {
   "display_name": "Python 3",
   "language": "python",
   "name": "python3"
  },
  "language_info": {
   "codemirror_mode": {
    "name": "ipython",
    "version": 3
   },
   "file_extension": ".py",
   "mimetype": "text/x-python",
   "name": "python",
   "nbconvert_exporter": "python",
   "pygments_lexer": "ipython3",
   "version": "3.7.3"
  }
 },
 "nbformat": 4,
 "nbformat_minor": 2
}
